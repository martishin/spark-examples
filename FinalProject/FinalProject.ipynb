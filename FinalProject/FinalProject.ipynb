{
 "cells": [
  {
   "cell_type": "code",
   "metadata": {},
   "outputs": [],
   "source": [
    ""
   ],
   "execution_count": null
  },
  {
   "cell_type": "markdown",
   "metadata": {},
   "source": [
    "<p style=\"text-align:center\">\n",
    "    <a href=\"https://skills.network\" target=\"_blank\">\n",
    "    <img src=\"https://cf-courses-data.s3.us.cloud-object-storage.appdomain.cloud/assets/logos/SN_web_lightmode.png\" width=\"200\" alt=\"Skills Network Logo\">\n",
    "    </a>\n",
    "</p>\n"
   ]
  },
  {
   "cell_type": "markdown",
   "metadata": {},
   "source": [
    "# Final Project: Data Analysis using Spark\n",
    "\n",
    "Estimated time needed: **60** minutes\n",
    "\n",
    "This final project is similar to the Practice Project you did. In this project, you will not be provided with hints or solutions. You will create a DataFrame by loading data from a CSV file and apply transformations and actions using Spark SQL. This needs to be achieved by performing the following tasks:\n",
    "\n",
    "- Task 1: Generate DataFrame from CSV data.\n",
    "- Task 2: Define a schema for the data.\n",
    "- Task 3: Display schema of DataFrame.\n",
    "- Task 4: Create a temporary view.\n",
    "- Task 5: Execute an SQL query.\n",
    "- Task 6: Calculate Average Salary by Department.\n",
    "- Task 7: Filter and Display IT Department Employees.\n",
    "- Task 8: Add 10% Bonus to Salaries.\n",
    "- Task 9: Find Maximum Salary by Age.\n",
    "- Task 10: Self-Join on Employee Data.\n",
    "- Task 11: Calculate Average Employee Age.\n",
    "- Task 12: Calculate Total Salary by Department.\n",
    "- Task 13: Sort Data by Age and Salary.\n",
    "- Task 14: Count Employees in Each Department.\n",
    "- Task 15: Filter Employees with the letter o in the Name.\n"
   ]
  },
  {
   "cell_type": "markdown",
   "metadata": {},
   "source": [
    "### Prerequisites \n",
    "\n",
    "1. For this lab assignment, you will be using Python and Spark (PySpark). Therefore, it's essential to make sure that the following libraries are installed in your lab environment or within Skills Network (SN) Labs\n"
   ]
  },
  {
   "cell_type": "code",
   "metadata": {
    "ExecuteTime": {
     "end_time": "2024-07-14T12:48:43.255250Z",
     "start_time": "2024-07-14T12:48:42.339081Z"
    }
   },
   "source": [
    "# Installing required packages  \n",
    "\n",
    "!pip3 install pyspark findspark wget\n"
   ],
   "outputs": [
    {
     "name": "stdout",
     "output_type": "stream",
     "text": [
      "Requirement already satisfied: pyspark in /Volumes/SSD/development/data_engineering/learning-spark/venv/lib/python3.11/site-packages (3.5.1)\r\n",
      "Requirement already satisfied: findspark in /Volumes/SSD/development/data_engineering/learning-spark/venv/lib/python3.11/site-packages (2.0.1)\r\n",
      "Requirement already satisfied: wget in /Volumes/SSD/development/data_engineering/learning-spark/venv/lib/python3.11/site-packages (3.2)\r\n",
      "Requirement already satisfied: py4j==0.10.9.7 in /Volumes/SSD/development/data_engineering/learning-spark/venv/lib/python3.11/site-packages (from pyspark) (0.10.9.7)\r\n",
      "\u001B[33mWARNING: There was an error checking the latest version of pip.\u001B[0m\u001B[33m\r\n",
      "\u001B[0m"
     ]
    }
   ],
   "execution_count": 1
  },
  {
   "cell_type": "code",
   "metadata": {
    "ExecuteTime": {
     "end_time": "2024-07-14T12:48:45.551493Z",
     "start_time": "2024-07-14T12:48:45.545253Z"
    }
   },
   "source": [
    "import findspark\n\nfindspark.init()"
   ],
   "outputs": [],
   "execution_count": 2
  },
  {
   "cell_type": "code",
   "metadata": {
    "ExecuteTime": {
     "end_time": "2024-07-14T12:48:46.394688Z",
     "start_time": "2024-07-14T12:48:46.219029Z"
    }
   },
   "source": [
    "# PySpark is the Spark API for Python. In this lab, we use PySpark to initialize the SparkContext.\n",
    "\n",
    "from pyspark import SparkContext, SparkConf\n",
    "\n",
    "from pyspark.sql import SparkSession"
   ],
   "outputs": [],
   "execution_count": 3
  },
  {
   "cell_type": "code",
   "metadata": {
    "ExecuteTime": {
     "end_time": "2024-07-14T12:49:22.878718Z",
     "start_time": "2024-07-14T12:49:21.324124Z"
    }
   },
   "source": [
    "# Creating a SparkContext object\n",
    "\n",
    "sc = SparkContext.getOrCreate()\n",
    "\n",
    "# Creating a SparkSession\n",
    "\n",
    "spark = SparkSession \\\n",
    "    .builder \\\n",
    "    .appName(\"Python Spark DataFrames basic example\") \\\n",
    "    .config(\"spark.some.config.option\", \"some-value\") \\\n",
    "    .getOrCreate()"
   ],
   "outputs": [
    {
     "name": "stderr",
     "output_type": "stream",
     "text": [
      "24/07/14 14:49:22 WARN Utils: Your hostname, Alexs-Mac-mini.local resolves to a loopback address: 127.0.0.1; using 192.168.178.87 instead (on interface en0)\n",
      "24/07/14 14:49:22 WARN Utils: Set SPARK_LOCAL_IP if you need to bind to another address\n",
      "Setting default log level to \"WARN\".\n",
      "To adjust logging level use sc.setLogLevel(newLevel). For SparkR, use setLogLevel(newLevel).\n",
      "24/07/14 14:49:22 WARN NativeCodeLoader: Unable to load native-hadoop library for your platform... using builtin-java classes where applicable\n",
      "24/07/14 14:49:22 WARN Utils: Service 'SparkUI' could not bind on port 4040. Attempting port 4041.\n",
      "24/07/14 14:49:22 WARN Utils: Service 'SparkUI' could not bind on port 4041. Attempting port 4042.\n",
      "24/07/14 14:49:22 WARN Utils: Service 'SparkUI' could not bind on port 4042. Attempting port 4043.\n"
     ]
    }
   ],
   "execution_count": 4
  },
  {
   "cell_type": "markdown",
   "metadata": {},
   "source": "2. Download the CSV data.\n"
  },
  {
   "cell_type": "code",
   "metadata": {
    "ExecuteTime": {
     "end_time": "2024-07-14T12:49:30.796209Z",
     "start_time": "2024-07-14T12:49:30.172228Z"
    }
   },
   "source": [
    "# Download the CSV data first into a local `employees.csv` file\nimport wget\nwget.download(\"https://cf-courses-data.s3.us.cloud-object-storage.appdomain.cloud/IBM-BD0225EN-SkillsNetwork/data/employees.csv\")"
   ],
   "outputs": [
    {
     "data": {
      "text/plain": [
       "'employees.csv'"
      ]
     },
     "execution_count": 5,
     "metadata": {},
     "output_type": "execute_result"
    }
   ],
   "execution_count": 5
  },
  {
   "cell_type": "markdown",
   "metadata": {},
   "source": [
    "### Tasks\n"
   ]
  },
  {
   "cell_type": "markdown",
   "metadata": {},
   "source": [
    "#### Task 1: Generate a Spark DataFrame from the CSV data\n",
    "\n",
    "Read data from the provided CSV file, `employees.csv` and import it into a Spark DataFrame variable named `employees_df`.\n",
    "\n",
    " \n"
   ]
  },
  {
   "cell_type": "code",
   "metadata": {
    "ExecuteTime": {
     "end_time": "2024-07-14T13:15:33.452173Z",
     "start_time": "2024-07-14T13:15:31.323182Z"
    }
   },
   "source": [
    "# Read data from the \"emp\" CSV file and import it into a DataFrame variable named \"employees_d\"\n",
    "employees_df = spark.read.csv(\"employees.csv\", header=True, inferSchema=True)\n",
    "employees_df.show()"
   ],
   "outputs": [
    {
     "name": "stdout",
     "output_type": "stream",
     "text": [
      "+------+---------+------+---+----------+\n",
      "|Emp_No| Emp_Name|Salary|Age|Department|\n",
      "+------+---------+------+---+----------+\n",
      "|   198|   Donald|  2600| 29|        IT|\n",
      "|   199|  Douglas|  2600| 34|     Sales|\n",
      "|   200| Jennifer|  4400| 36| Marketing|\n",
      "|   201|  Michael| 13000| 32|        IT|\n",
      "|   202|      Pat|  6000| 39|        HR|\n",
      "|   203|    Susan|  6500| 36| Marketing|\n",
      "|   204|  Hermann| 10000| 29|   Finance|\n",
      "|   205|  Shelley| 12008| 33|   Finance|\n",
      "|   206|  William|  8300| 37|        IT|\n",
      "|   100|   Steven| 24000| 39|        IT|\n",
      "|   101|    Neena| 17000| 27|     Sales|\n",
      "|   102|      Lex| 17000| 37| Marketing|\n",
      "|   103|Alexander|  9000| 39| Marketing|\n",
      "|   104|    Bruce|  6000| 38|        IT|\n",
      "|   105|    David|  4800| 39|        IT|\n",
      "|   106|    Valli|  4800| 38|     Sales|\n",
      "|   107|    Diana|  4200| 35|     Sales|\n",
      "|   108|    Nancy| 12008| 28|     Sales|\n",
      "|   109|   Daniel|  9000| 35|        HR|\n",
      "|   110|     John|  8200| 31| Marketing|\n",
      "+------+---------+------+---+----------+\n",
      "only showing top 20 rows\n",
      "\n"
     ]
    }
   ],
   "execution_count": 7
  },
  {
   "cell_type": "markdown",
   "metadata": {},
   "source": [
    "#### Task 2: Define a schema for the data\n",
    "\n",
    "Construct a schema for the input data and then utilize the defined schema to read the CSV file to create a DataFrame named `employees_df`.\n"
   ]
  },
  {
   "cell_type": "code",
   "metadata": {
    "ExecuteTime": {
     "end_time": "2024-07-14T13:16:44.237001Z",
     "start_time": "2024-07-14T13:16:44.160140Z"
    }
   },
   "source": [
    "# Define a Schema for the input data and read the file using the user-defined Schema\n",
    "from pyspark.sql.types import StructType, StructField, StringType, IntegerType, DoubleType\n",
    "\n",
    "# Define the schema for the input data\n",
    "schema = StructType([\n",
    "    StructField(\"Emp_No\", IntegerType(), True),\n",
    "    StructField(\"Emp_Name\", StringType(), True),\n",
    "    StructField(\"Salary\", DoubleType(), True),\n",
    "    StructField(\"Age\", IntegerType(), True),\n",
    "    StructField(\"Department\", StringType(), True),\n",
    "])\n",
    "\n",
    "# Read the CSV file using the user-defined schema\n",
    "employees_df = spark.read.schema(schema).csv(\"employees.csv\", header=True)\n",
    "employees_df.show()"
   ],
   "outputs": [
    {
     "name": "stdout",
     "output_type": "stream",
     "text": [
      "+------+---------+-------+---+----------+\n",
      "|Emp_No| Emp_Name| Salary|Age|Department|\n",
      "+------+---------+-------+---+----------+\n",
      "|   198|   Donald| 2600.0| 29|        IT|\n",
      "|   199|  Douglas| 2600.0| 34|     Sales|\n",
      "|   200| Jennifer| 4400.0| 36| Marketing|\n",
      "|   201|  Michael|13000.0| 32|        IT|\n",
      "|   202|      Pat| 6000.0| 39|        HR|\n",
      "|   203|    Susan| 6500.0| 36| Marketing|\n",
      "|   204|  Hermann|10000.0| 29|   Finance|\n",
      "|   205|  Shelley|12008.0| 33|   Finance|\n",
      "|   206|  William| 8300.0| 37|        IT|\n",
      "|   100|   Steven|24000.0| 39|        IT|\n",
      "|   101|    Neena|17000.0| 27|     Sales|\n",
      "|   102|      Lex|17000.0| 37| Marketing|\n",
      "|   103|Alexander| 9000.0| 39| Marketing|\n",
      "|   104|    Bruce| 6000.0| 38|        IT|\n",
      "|   105|    David| 4800.0| 39|        IT|\n",
      "|   106|    Valli| 4800.0| 38|     Sales|\n",
      "|   107|    Diana| 4200.0| 35|     Sales|\n",
      "|   108|    Nancy|12008.0| 28|     Sales|\n",
      "|   109|   Daniel| 9000.0| 35|        HR|\n",
      "|   110|     John| 8200.0| 31| Marketing|\n",
      "+------+---------+-------+---+----------+\n",
      "only showing top 20 rows\n",
      "\n"
     ]
    }
   ],
   "execution_count": 10
  },
  {
   "cell_type": "markdown",
   "metadata": {},
   "source": [
    "#### Task 3: Display schema of DataFrame\n",
    "\n",
    "Display the schema of the `employees_df` DataFrame, showing all columns and their respective data types.  \n"
   ]
  },
  {
   "cell_type": "code",
   "metadata": {
    "ExecuteTime": {
     "end_time": "2024-07-14T13:16:55.014258Z",
     "start_time": "2024-07-14T13:16:55.009602Z"
    }
   },
   "source": [
    "# Display all columns of the DataFrame, along with their respective data types\n",
    "employees_df.printSchema()"
   ],
   "outputs": [
    {
     "name": "stdout",
     "output_type": "stream",
     "text": [
      "root\n",
      " |-- Emp_No: integer (nullable = true)\n",
      " |-- Emp_Name: string (nullable = true)\n",
      " |-- Salary: double (nullable = true)\n",
      " |-- Age: integer (nullable = true)\n",
      " |-- Department: string (nullable = true)\n",
      "\n"
     ]
    }
   ],
   "execution_count": 11
  },
  {
   "cell_type": "markdown",
   "metadata": {},
   "source": [
    "#### Task 4: Create a temporary view\n",
    "\n",
    "Create a temporary view named `employees` for the `employees_df` DataFrame, enabling Spark SQL queries on the data. \n"
   ]
  },
  {
   "cell_type": "code",
   "metadata": {
    "ExecuteTime": {
     "end_time": "2024-07-14T13:17:05.389026Z",
     "start_time": "2024-07-14T13:17:05.369581Z"
    }
   },
   "source": [
    "# Create a temporary view named \"employees\" for the DataFrame\n",
    "employees_df.createOrReplaceTempView(\"employees\")"
   ],
   "outputs": [],
   "execution_count": 12
  },
  {
   "cell_type": "markdown",
   "metadata": {},
   "source": [
    "#### Task 5: Execute an SQL query\n",
    "\n",
    "Compose and execute an SQL query to fetch the records from the `employees` view where the age of employees exceeds 30. Then, display the result of the SQL query, showcasing the filtered records.\n"
   ]
  },
  {
   "cell_type": "code",
   "metadata": {
    "ExecuteTime": {
     "end_time": "2024-07-14T13:17:11.839509Z",
     "start_time": "2024-07-14T13:17:11.742946Z"
    }
   },
   "source": [
    "# SQL query to fetch solely the records from the View where the age exceeds 30\n",
    "result = spark.sql(\"SELECT * FROM employees WHERE Age > 30\")\n",
    "result.show()"
   ],
   "outputs": [
    {
     "name": "stdout",
     "output_type": "stream",
     "text": [
      "+------+-----------+-------+---+----------+\n",
      "|Emp_No|   Emp_Name| Salary|Age|Department|\n",
      "+------+-----------+-------+---+----------+\n",
      "|   199|    Douglas| 2600.0| 34|     Sales|\n",
      "|   200|   Jennifer| 4400.0| 36| Marketing|\n",
      "|   201|    Michael|13000.0| 32|        IT|\n",
      "|   202|        Pat| 6000.0| 39|        HR|\n",
      "|   203|      Susan| 6500.0| 36| Marketing|\n",
      "|   205|    Shelley|12008.0| 33|   Finance|\n",
      "|   206|    William| 8300.0| 37|        IT|\n",
      "|   100|     Steven|24000.0| 39|        IT|\n",
      "|   102|        Lex|17000.0| 37| Marketing|\n",
      "|   103|  Alexander| 9000.0| 39| Marketing|\n",
      "|   104|      Bruce| 6000.0| 38|        IT|\n",
      "|   105|      David| 4800.0| 39|        IT|\n",
      "|   106|      Valli| 4800.0| 38|     Sales|\n",
      "|   107|      Diana| 4200.0| 35|     Sales|\n",
      "|   109|     Daniel| 9000.0| 35|        HR|\n",
      "|   110|       John| 8200.0| 31| Marketing|\n",
      "|   111|     Ismael| 7700.0| 32|        IT|\n",
      "|   112|Jose Manuel| 7800.0| 34|        HR|\n",
      "|   113|       Luis| 6900.0| 34|     Sales|\n",
      "|   116|     Shelli| 2900.0| 37|   Finance|\n",
      "+------+-----------+-------+---+----------+\n",
      "only showing top 20 rows\n",
      "\n"
     ]
    }
   ],
   "execution_count": 13
  },
  {
   "cell_type": "markdown",
   "metadata": {},
   "source": [
    "#### Task 6: Calculate Average Salary by Department\n",
    "\n",
    "Compose an SQL query to retrieve the average salary of employees grouped by department. Display the result.\n"
   ]
  },
  {
   "cell_type": "code",
   "metadata": {
    "ExecuteTime": {
     "end_time": "2024-07-14T13:17:21.077240Z",
     "start_time": "2024-07-14T13:17:20.770108Z"
    }
   },
   "source": [
    "# SQL query to calculate the average salary of employees grouped by department\n",
    "avg_salary_by_dept = spark.sql(\"SELECT Department, AVG(Salary) as Avg_Salary FROM employees GROUP BY Department\")\n",
    "avg_salary_by_dept.show()"
   ],
   "outputs": [
    {
     "name": "stdout",
     "output_type": "stream",
     "text": [
      "+----------+-----------------+\n",
      "|Department|       Avg_Salary|\n",
      "+----------+-----------------+\n",
      "|     Sales|5492.923076923077|\n",
      "|        HR|           5837.5|\n",
      "|   Finance|           5730.8|\n",
      "| Marketing|6633.333333333333|\n",
      "|        IT|           7400.0|\n",
      "+----------+-----------------+\n",
      "\n"
     ]
    }
   ],
   "execution_count": 14
  },
  {
   "cell_type": "markdown",
   "metadata": {},
   "source": [
    "#### Task 7: Filter and Display IT Department Employees\n",
    "\n",
    "Apply a filter on the `employees_df` DataFrame to select records where the department is `'IT'`. Display the filtered DataFrame.\n"
   ]
  },
  {
   "cell_type": "code",
   "metadata": {
    "ExecuteTime": {
     "end_time": "2024-07-14T13:17:40.138347Z",
     "start_time": "2024-07-14T13:17:40.068459Z"
    }
   },
   "source": [
    "# Apply a filter to select records where the department is 'IT'\n",
    "it_employees = employees_df.filter(employees_df.Department == 'IT')\n",
    "it_employees.show()"
   ],
   "outputs": [
    {
     "name": "stdout",
     "output_type": "stream",
     "text": [
      "+------+--------+-------+---+----------+\n",
      "|Emp_No|Emp_Name| Salary|Age|Department|\n",
      "+------+--------+-------+---+----------+\n",
      "|   198|  Donald| 2600.0| 29|        IT|\n",
      "|   201| Michael|13000.0| 32|        IT|\n",
      "|   206| William| 8300.0| 37|        IT|\n",
      "|   100|  Steven|24000.0| 39|        IT|\n",
      "|   104|   Bruce| 6000.0| 38|        IT|\n",
      "|   105|   David| 4800.0| 39|        IT|\n",
      "|   111|  Ismael| 7700.0| 32|        IT|\n",
      "|   129|   Laura| 3300.0| 38|        IT|\n",
      "|   132|      TJ| 2100.0| 34|        IT|\n",
      "|   136|   Hazel| 2200.0| 29|        IT|\n",
      "+------+--------+-------+---+----------+\n",
      "\n"
     ]
    }
   ],
   "execution_count": 15
  },
  {
   "cell_type": "markdown",
   "metadata": {},
   "source": [
    "#### Task 8: Add 10% Bonus to Salaries\n",
    "\n",
    "Perform a transformation to add a new column named \"SalaryAfterBonus\" to the DataFrame. Calculate the new salary by adding a 10% bonus to each employee's salary.\n"
   ]
  },
  {
   "metadata": {},
   "cell_type": "markdown",
   "source": ""
  },
  {
   "cell_type": "code",
   "metadata": {
    "ExecuteTime": {
     "end_time": "2024-07-14T13:18:46.219135Z",
     "start_time": "2024-07-14T13:18:46.143992Z"
    }
   },
   "source": [
    "from pyspark.sql.functions import col\n",
    "\n",
    "# Add a new column \"SalaryAfterBonus\" with 10% bonus added to the original salary\n",
    "employees_df = employees_df.withColumn(\"SalaryAfterBonus\", col(\"Salary\") * 1.10)\n",
    "employees_df.show()"
   ],
   "outputs": [
    {
     "name": "stdout",
     "output_type": "stream",
     "text": [
      "+------+---------+-------+---+----------+------------------+\n",
      "|Emp_No| Emp_Name| Salary|Age|Department|  SalaryAfterBonus|\n",
      "+------+---------+-------+---+----------+------------------+\n",
      "|   198|   Donald| 2600.0| 29|        IT|2860.0000000000005|\n",
      "|   199|  Douglas| 2600.0| 34|     Sales|2860.0000000000005|\n",
      "|   200| Jennifer| 4400.0| 36| Marketing|            4840.0|\n",
      "|   201|  Michael|13000.0| 32|        IT|14300.000000000002|\n",
      "|   202|      Pat| 6000.0| 39|        HR| 6600.000000000001|\n",
      "|   203|    Susan| 6500.0| 36| Marketing| 7150.000000000001|\n",
      "|   204|  Hermann|10000.0| 29|   Finance|           11000.0|\n",
      "|   205|  Shelley|12008.0| 33|   Finance|13208.800000000001|\n",
      "|   206|  William| 8300.0| 37|        IT|            9130.0|\n",
      "|   100|   Steven|24000.0| 39|        IT|26400.000000000004|\n",
      "|   101|    Neena|17000.0| 27|     Sales|           18700.0|\n",
      "|   102|      Lex|17000.0| 37| Marketing|           18700.0|\n",
      "|   103|Alexander| 9000.0| 39| Marketing|            9900.0|\n",
      "|   104|    Bruce| 6000.0| 38|        IT| 6600.000000000001|\n",
      "|   105|    David| 4800.0| 39|        IT|            5280.0|\n",
      "|   106|    Valli| 4800.0| 38|     Sales|            5280.0|\n",
      "|   107|    Diana| 4200.0| 35|     Sales|            4620.0|\n",
      "|   108|    Nancy|12008.0| 28|     Sales|13208.800000000001|\n",
      "|   109|   Daniel| 9000.0| 35|        HR|            9900.0|\n",
      "|   110|     John| 8200.0| 31| Marketing|            9020.0|\n",
      "+------+---------+-------+---+----------+------------------+\n",
      "only showing top 20 rows\n",
      "\n"
     ]
    }
   ],
   "execution_count": 17
  },
  {
   "cell_type": "markdown",
   "metadata": {},
   "source": [
    "#### Task 9: Find Maximum Salary by Age\n",
    "\n",
    "Group the data by age and calculate the maximum salary for each age group. Display the result.\n"
   ]
  },
  {
   "cell_type": "code",
   "metadata": {
    "ExecuteTime": {
     "end_time": "2024-07-14T13:19:14.429649Z",
     "start_time": "2024-07-14T13:19:14.296979Z"
    }
   },
   "source": [
    "from pyspark.sql.functions import max\n",
    "\n",
    "# Group data by age and calculate the maximum salary for each age group\n",
    "max_salary_by_age = employees_df.groupBy(\"Age\").agg(max(\"Salary\").alias(\"Max_Salary\"))\n",
    "max_salary_by_age.show()"
   ],
   "outputs": [
    {
     "name": "stdout",
     "output_type": "stream",
     "text": [
      "+---+----------+\n",
      "|Age|Max_Salary|\n",
      "+---+----------+\n",
      "| 31|    8200.0|\n",
      "| 34|    7800.0|\n",
      "| 28|   12008.0|\n",
      "| 27|   17000.0|\n",
      "| 26|    3600.0|\n",
      "| 37|   17000.0|\n",
      "| 35|    9000.0|\n",
      "| 39|   24000.0|\n",
      "| 38|    6000.0|\n",
      "| 29|   10000.0|\n",
      "| 32|   13000.0|\n",
      "| 33|   12008.0|\n",
      "| 30|    8000.0|\n",
      "| 36|    7900.0|\n",
      "+---+----------+\n",
      "\n"
     ]
    }
   ],
   "execution_count": 18
  },
  {
   "cell_type": "markdown",
   "metadata": {},
   "source": [
    "#### Task 10: Self-Join on Employee Data\n",
    "\n",
    "Join the \"employees_df\" DataFrame with itself based on the \"Emp_No\" column. Display the result.\n"
   ]
  },
  {
   "cell_type": "code",
   "metadata": {
    "ExecuteTime": {
     "end_time": "2024-07-14T13:19:35.053203Z",
     "start_time": "2024-07-14T13:19:34.875620Z"
    }
   },
   "source": [
    "# Join the DataFrame with itself based on the \"Emp_No\" column\n",
    "self_joined_df = employees_df.alias(\"df1\").join(employees_df.alias(\"df2\"), col(\"df1.Emp_No\") == col(\"df2.Emp_No\"))\n",
    "self_joined_df.show()"
   ],
   "outputs": [
    {
     "name": "stdout",
     "output_type": "stream",
     "text": [
      "+------+---------+-------+---+----------+------------------+------+---------+-------+---+----------+------------------+\n",
      "|Emp_No| Emp_Name| Salary|Age|Department|  SalaryAfterBonus|Emp_No| Emp_Name| Salary|Age|Department|  SalaryAfterBonus|\n",
      "+------+---------+-------+---+----------+------------------+------+---------+-------+---+----------+------------------+\n",
      "|   198|   Donald| 2600.0| 29|        IT|2860.0000000000005|   198|   Donald| 2600.0| 29|        IT|2860.0000000000005|\n",
      "|   199|  Douglas| 2600.0| 34|     Sales|2860.0000000000005|   199|  Douglas| 2600.0| 34|     Sales|2860.0000000000005|\n",
      "|   200| Jennifer| 4400.0| 36| Marketing|            4840.0|   200| Jennifer| 4400.0| 36| Marketing|            4840.0|\n",
      "|   201|  Michael|13000.0| 32|        IT|14300.000000000002|   201|  Michael|13000.0| 32|        IT|14300.000000000002|\n",
      "|   202|      Pat| 6000.0| 39|        HR| 6600.000000000001|   202|      Pat| 6000.0| 39|        HR| 6600.000000000001|\n",
      "|   203|    Susan| 6500.0| 36| Marketing| 7150.000000000001|   203|    Susan| 6500.0| 36| Marketing| 7150.000000000001|\n",
      "|   204|  Hermann|10000.0| 29|   Finance|           11000.0|   204|  Hermann|10000.0| 29|   Finance|           11000.0|\n",
      "|   205|  Shelley|12008.0| 33|   Finance|13208.800000000001|   205|  Shelley|12008.0| 33|   Finance|13208.800000000001|\n",
      "|   206|  William| 8300.0| 37|        IT|            9130.0|   206|  William| 8300.0| 37|        IT|            9130.0|\n",
      "|   100|   Steven|24000.0| 39|        IT|26400.000000000004|   100|   Steven|24000.0| 39|        IT|26400.000000000004|\n",
      "|   101|    Neena|17000.0| 27|     Sales|           18700.0|   101|    Neena|17000.0| 27|     Sales|           18700.0|\n",
      "|   102|      Lex|17000.0| 37| Marketing|           18700.0|   102|      Lex|17000.0| 37| Marketing|           18700.0|\n",
      "|   103|Alexander| 9000.0| 39| Marketing|            9900.0|   103|Alexander| 9000.0| 39| Marketing|            9900.0|\n",
      "|   104|    Bruce| 6000.0| 38|        IT| 6600.000000000001|   104|    Bruce| 6000.0| 38|        IT| 6600.000000000001|\n",
      "|   105|    David| 4800.0| 39|        IT|            5280.0|   105|    David| 4800.0| 39|        IT|            5280.0|\n",
      "|   106|    Valli| 4800.0| 38|     Sales|            5280.0|   106|    Valli| 4800.0| 38|     Sales|            5280.0|\n",
      "|   107|    Diana| 4200.0| 35|     Sales|            4620.0|   107|    Diana| 4200.0| 35|     Sales|            4620.0|\n",
      "|   108|    Nancy|12008.0| 28|     Sales|13208.800000000001|   108|    Nancy|12008.0| 28|     Sales|13208.800000000001|\n",
      "|   109|   Daniel| 9000.0| 35|        HR|            9900.0|   109|   Daniel| 9000.0| 35|        HR|            9900.0|\n",
      "|   110|     John| 8200.0| 31| Marketing|            9020.0|   110|     John| 8200.0| 31| Marketing|            9020.0|\n",
      "+------+---------+-------+---+----------+------------------+------+---------+-------+---+----------+------------------+\n",
      "only showing top 20 rows\n",
      "\n"
     ]
    }
   ],
   "execution_count": 19
  },
  {
   "cell_type": "markdown",
   "metadata": {},
   "source": [
    "#### Task 11: Calculate Average Employee Age\n",
    "\n",
    "Calculate the average age of employees using the built-in aggregation function. Display the result.\n"
   ]
  },
  {
   "cell_type": "code",
   "metadata": {
    "ExecuteTime": {
     "end_time": "2024-07-14T13:19:50.969099Z",
     "start_time": "2024-07-14T13:19:50.888907Z"
    }
   },
   "source": [
    "from pyspark.sql.functions import avg\n",
    "\n",
    "# Calculate the average age of employees\n",
    "avg_age = employees_df.agg(avg(\"Age\").alias(\"Avg_Age\"))\n",
    "avg_age.show()"
   ],
   "outputs": [
    {
     "name": "stdout",
     "output_type": "stream",
     "text": [
      "+-------+\n",
      "|Avg_Age|\n",
      "+-------+\n",
      "|  33.56|\n",
      "+-------+\n",
      "\n"
     ]
    }
   ],
   "execution_count": 20
  },
  {
   "cell_type": "markdown",
   "metadata": {},
   "source": [
    "#### Task 12: Calculate Total Salary by Department\n",
    "\n",
    "Calculate the total salary for each department using the built-in aggregation function. Display the result.\n"
   ]
  },
  {
   "cell_type": "code",
   "metadata": {
    "ExecuteTime": {
     "end_time": "2024-07-14T13:20:14.146836Z",
     "start_time": "2024-07-14T13:20:14.043412Z"
    }
   },
   "source": [
    "from pyspark.sql.functions import sum\n",
    "\n",
    "# Calculate the total salary for each department. Hint - Use GroupBy and Aggregate functions\n",
    "total_salary_by_dept = employees_df.groupBy(\"Department\").agg(sum(\"Salary\").alias(\"Total_Salary\"))\n",
    "total_salary_by_dept.show()"
   ],
   "outputs": [
    {
     "name": "stdout",
     "output_type": "stream",
     "text": [
      "+----------+------------+\n",
      "|Department|Total_Salary|\n",
      "+----------+------------+\n",
      "|     Sales|     71408.0|\n",
      "|        HR|     46700.0|\n",
      "|   Finance|     57308.0|\n",
      "| Marketing|     59700.0|\n",
      "|        IT|     74000.0|\n",
      "+----------+------------+\n",
      "\n"
     ]
    }
   ],
   "execution_count": 21
  },
  {
   "cell_type": "markdown",
   "metadata": {},
   "source": [
    "#### Task 13: Sort Data by Age and Salary\n",
    "\n",
    "Apply a transformation to sort the DataFrame by age in ascending order and then by salary in descending order. Display the sorted DataFrame.\n"
   ]
  },
  {
   "cell_type": "code",
   "metadata": {
    "ExecuteTime": {
     "end_time": "2024-07-14T13:20:28.551081Z",
     "start_time": "2024-07-14T13:20:28.458601Z"
    }
   },
   "source": [
    "# Sort the DataFrame by age in ascending order and then by salary in descending order\n",
    "sorted_df = employees_df.orderBy(col(\"Age\").asc(), col(\"Salary\").desc())\n",
    "sorted_df.show()"
   ],
   "outputs": [
    {
     "name": "stdout",
     "output_type": "stream",
     "text": [
      "+------+---------+-------+---+----------+------------------+\n",
      "|Emp_No| Emp_Name| Salary|Age|Department|  SalaryAfterBonus|\n",
      "+------+---------+-------+---+----------+------------------+\n",
      "|   137|   Renske| 3600.0| 26| Marketing|3960.0000000000005|\n",
      "|   101|    Neena|17000.0| 27|     Sales|           18700.0|\n",
      "|   114|      Den|11000.0| 27|   Finance|12100.000000000002|\n",
      "|   108|    Nancy|12008.0| 28|     Sales|13208.800000000001|\n",
      "|   130|    Mozhe| 2800.0| 28| Marketing|3080.0000000000005|\n",
      "|   126|    Irene| 2700.0| 28|        HR|2970.0000000000005|\n",
      "|   204|  Hermann|10000.0| 29|   Finance|           11000.0|\n",
      "|   115|Alexander| 3100.0| 29|   Finance|3410.0000000000005|\n",
      "|   134|  Michael| 2900.0| 29|     Sales|3190.0000000000005|\n",
      "|   198|   Donald| 2600.0| 29|        IT|2860.0000000000005|\n",
      "|   140|   Joshua| 2500.0| 29|   Finance|            2750.0|\n",
      "|   136|    Hazel| 2200.0| 29|        IT|            2420.0|\n",
      "|   120|  Matthew| 8000.0| 30|        HR|            8800.0|\n",
      "|   110|     John| 8200.0| 31| Marketing|            9020.0|\n",
      "|   127|    James| 2400.0| 31|        HR|            2640.0|\n",
      "|   201|  Michael|13000.0| 32|        IT|14300.000000000002|\n",
      "|   111|   Ismael| 7700.0| 32|        IT|            8470.0|\n",
      "|   119|    Karen| 2500.0| 32|   Finance|            2750.0|\n",
      "|   205|  Shelley|12008.0| 33|   Finance|13208.800000000001|\n",
      "|   124|    Kevin| 5800.0| 33| Marketing| 6380.000000000001|\n",
      "+------+---------+-------+---+----------+------------------+\n",
      "only showing top 20 rows\n",
      "\n"
     ]
    }
   ],
   "execution_count": 22
  },
  {
   "cell_type": "markdown",
   "metadata": {},
   "source": [
    "#### Task 14: Count Employees in Each Department\n",
    "\n",
    "Calculate the number of employees in each department. Display the result.\n"
   ]
  },
  {
   "cell_type": "code",
   "metadata": {
    "ExecuteTime": {
     "end_time": "2024-07-14T13:21:02.937008Z",
     "start_time": "2024-07-14T13:21:02.834318Z"
    }
   },
   "source": [
    "from pyspark.sql.functions import count\n",
    "\n",
    "# Calculate the number of employees in each department\n",
    "count_by_dept = employees_df.groupBy(\"Department\").agg(count(\"Emp_No\").alias(\"Employee_Count\"))\n",
    "count_by_dept.show()"
   ],
   "outputs": [
    {
     "name": "stdout",
     "output_type": "stream",
     "text": [
      "+----------+--------------+\n",
      "|Department|Employee_Count|\n",
      "+----------+--------------+\n",
      "|     Sales|            13|\n",
      "|        HR|             8|\n",
      "|   Finance|            10|\n",
      "| Marketing|             9|\n",
      "|        IT|            10|\n",
      "+----------+--------------+\n",
      "\n"
     ]
    }
   ],
   "execution_count": 23
  },
  {
   "cell_type": "markdown",
   "metadata": {},
   "source": [
    "#### Task 15: Filter Employees with the letter o in the Name\n",
    "\n",
    "Apply a filter to select records where the employee's name contains the letter `'o'`. Display the filtered DataFrame.\n"
   ]
  },
  {
   "cell_type": "code",
   "metadata": {
    "ExecuteTime": {
     "end_time": "2024-07-14T13:21:25.171421Z",
     "start_time": "2024-07-14T13:21:25.114553Z"
    }
   },
   "source": [
    "# Apply a filter to select records where the employee's name contains the letter 'o'\n",
    "filtered_employees = employees_df.filter(employees_df.Emp_Name.contains('o'))\n",
    "filtered_employees.show()"
   ],
   "outputs": [
    {
     "name": "stdout",
     "output_type": "stream",
     "text": [
      "+------+-----------+------+---+----------+------------------+\n",
      "|Emp_No|   Emp_Name|Salary|Age|Department|  SalaryAfterBonus|\n",
      "+------+-----------+------+---+----------+------------------+\n",
      "|   198|     Donald|2600.0| 29|        IT|2860.0000000000005|\n",
      "|   199|    Douglas|2600.0| 34|     Sales|2860.0000000000005|\n",
      "|   110|       John|8200.0| 31| Marketing|            9020.0|\n",
      "|   112|Jose Manuel|7800.0| 34|        HR|            8580.0|\n",
      "|   130|      Mozhe|2800.0| 28| Marketing|3080.0000000000005|\n",
      "|   133|      Jason|3300.0| 38|     Sales|3630.0000000000005|\n",
      "|   139|       John|2700.0| 36|     Sales|2970.0000000000005|\n",
      "|   140|     Joshua|2500.0| 29|   Finance|            2750.0|\n",
      "+------+-----------+------+---+----------+------------------+\n",
      "\n"
     ]
    }
   ],
   "execution_count": 25
  },
  {
   "cell_type": "markdown",
   "metadata": {},
   "source": [
    "# Congratulations! You have completed the project.\n",
    "\n",
    "Now you know how to create a DataFrame from a CSV data file and perform a variety of DataFrame transformations and actions using Spark SQL.\n"
   ]
  },
  {
   "cell_type": "markdown",
   "metadata": {},
   "source": [
    "## Authors\n"
   ]
  },
  {
   "cell_type": "markdown",
   "metadata": {},
   "source": [
    "Raghul Ramesh\n"
   ]
  },
  {
   "cell_type": "markdown",
   "metadata": {},
   "source": [
    "Lavanya T S\n"
   ]
  },
  {
   "cell_type": "markdown",
   "metadata": {},
   "source": [
    "<!--## Change Log -->\n"
   ]
  },
  {
   "cell_type": "markdown",
   "metadata": {},
   "source": [
    "<!--|Date (YYYY-MM-DD)|Version|Changed By|Change Description|\n",
    "|-|-|-|-|\n",
    "|2023-09-01|0.1|Lavanya T S|Initial version|\n",
    "|2023-09-11|0.2|Pornima More|QA pass with edits|-->\n"
   ]
  },
  {
   "cell_type": "markdown",
   "metadata": {},
   "source": [
    "<h3 align=\"center\"> &#169; IBM Corporation. All rights reserved. <h3/>\n"
   ]
  }
 ],
 "metadata": {
  "kernelspec": {
   "display_name": "Python 3 (ipykernel)",
   "language": "python",
   "name": "python3"
  },
  "language_info": {
   "name": "python",
   "version": "3.7.12",
   "mimetype": "text/x-python",
   "codemirror_mode": {
    "name": "ipython",
    "version": 3
   },
   "pygments_lexer": "ipython3",
   "nbconvert_exporter": "python",
   "file_extension": ".py"
  },
  "prev_pub_hash": "aff0a6b4ec3a9cf15ae5d70a5c7ecac07e8a7f43b412a755232c9c99d1062fc8"
 },
 "nbformat": 4,
 "nbformat_minor": 4
}
